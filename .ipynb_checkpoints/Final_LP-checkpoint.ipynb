{
 "cells": [
  {
   "cell_type": "code",
   "execution_count": 1,
   "id": "a11e6ea2-03b4-4025-94ba-f7c647dafbb6",
   "metadata": {},
   "outputs": [
    {
     "name": "stdout",
     "output_type": "stream",
     "text": [
      "Requirement already satisfied: praw in /opt/anaconda3/lib/python3.11/site-packages (7.7.1)\n",
      "Requirement already satisfied: prawcore<3,>=2.1 in /opt/anaconda3/lib/python3.11/site-packages (from praw) (2.4.0)\n",
      "Requirement already satisfied: update-checker>=0.18 in /opt/anaconda3/lib/python3.11/site-packages (from praw) (0.18.0)\n",
      "Requirement already satisfied: websocket-client>=0.54.0 in /opt/anaconda3/lib/python3.11/site-packages (from praw) (1.8.0)\n",
      "Requirement already satisfied: requests<3.0,>=2.6.0 in /opt/anaconda3/lib/python3.11/site-packages (from prawcore<3,>=2.1->praw) (2.32.3)\n",
      "Requirement already satisfied: charset-normalizer<4,>=2 in /opt/anaconda3/lib/python3.11/site-packages (from requests<3.0,>=2.6.0->prawcore<3,>=2.1->praw) (2.0.4)\n",
      "Requirement already satisfied: idna<4,>=2.5 in /opt/anaconda3/lib/python3.11/site-packages (from requests<3.0,>=2.6.0->prawcore<3,>=2.1->praw) (3.4)\n",
      "Requirement already satisfied: urllib3<3,>=1.21.1 in /opt/anaconda3/lib/python3.11/site-packages (from requests<3.0,>=2.6.0->prawcore<3,>=2.1->praw) (1.26.19)\n",
      "Requirement already satisfied: certifi>=2017.4.17 in /opt/anaconda3/lib/python3.11/site-packages (from requests<3.0,>=2.6.0->prawcore<3,>=2.1->praw) (2024.2.2)\n"
     ]
    }
   ],
   "source": [
    "!pip install praw"
   ]
  },
  {
   "cell_type": "code",
   "execution_count": null,
   "id": "6ab34800-87cb-4d62-93f4-d859e26af75f",
   "metadata": {},
   "outputs": [],
   "source": [
    "import praw\n",
    "import csv\n",
    "import datetime\n",
    "\n",
    "# Configuración de la API de Reddit\n",
    "reddit = praw.Reddit(\n",
    "    client_id='46K3g9wdgnG6N-EULyNyCA',\n",
    "    client_secret='Wu0ex80UAuqV9fv6xkN2wkCIZ-NR6Q',\n",
    "    user_agent='Traditional-Can3255'\n",
    ")\n",
    "\n",
    "# Define el subreddit y el término de búsqueda\n",
    "subreddit_name = 'gaming'  # Puedes cambiar a otros subreddits relacionados con videojuegos\n",
    "search_term = 'advertisement OR ad OR marketing OR promo'  # Términos de búsqueda para encontrar publicidades\n",
    "\n",
    "# Extrae publicaciones relacionadas con videojuegos\n",
    "subreddit = reddit.subreddit(subreddit_name)\n",
    "posts = subreddit.search(search_term, sort='relevant', time_filter='all', limit=100)  # Cambia el límite según tus necesidades\n",
    "# Archivo CSV para guardar los datos extraídos\n",
    "csv_file = 'video_game_advertisements.csv'\n",
    "\n",
    "# Abrir el archivo CSV para escribir datos\n",
    "with open(csv_file, mode='w', newline='', encoding='utf-8') as file:\n",
    "    writer = csv.writer(file)\n",
    "    writer.writerow(['Title', 'Author', 'Score', 'Comments', 'URL', 'Date'])  # Cabeceras de columnas\n",
    "\n",
    "    for post in posts:\n",
    "        # Extraer datos de cada publicación\n",
    "        title = post.title\n",
    "        author = post.author.name if post.author else 'Unknown'\n",
    "        score = post.score\n",
    "        comments = post.num_comments\n",
    "        url = post.url\n",
    "        date = datetime.datetime.fromtimestamp(post.created_utc).strftime('%Y-%m-%d %H:%M:%S')\n",
    "\n",
    "        # Escribir los datos en el archivo CSV\n",
    "        writer.writerow([title, author, score, comments, url, date])\n",
    "\n",
    "print(f'Datos extraídos y guardados en {csv_file}')\n"
   ]
  },
  {
   "cell_type": "code",
   "execution_count": null,
   "id": "2fedb369-4ea4-4854-85dd-51b736d27ffa",
   "metadata": {},
   "outputs": [],
   "source": []
  }
 ],
 "metadata": {
  "kernelspec": {
   "display_name": "Python 3 (ipykernel)",
   "language": "python",
   "name": "python3"
  },
  "language_info": {
   "codemirror_mode": {
    "name": "ipython",
    "version": 3
   },
   "file_extension": ".py",
   "mimetype": "text/x-python",
   "name": "python",
   "nbconvert_exporter": "python",
   "pygments_lexer": "ipython3",
   "version": "3.11.7"
  }
 },
 "nbformat": 4,
 "nbformat_minor": 5
}
