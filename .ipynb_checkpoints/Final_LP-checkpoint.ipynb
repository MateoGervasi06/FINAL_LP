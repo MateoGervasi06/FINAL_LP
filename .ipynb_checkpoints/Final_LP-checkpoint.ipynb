{
 "cells": [
  {
   "cell_type": "code",
   "execution_count": 1,
   "id": "6ab34800-87cb-4d62-93f4-d859e26af75f",
   "metadata": {},
   "outputs": [],
   "source": [
    "import praw\n",
    "\n",
    "# Configuración de la API de Reddit\n",
    "reddit = praw.Reddit(\n",
    "    client_id='46K3g9wdgnG6N-EULyNyCA',\n",
    "    client_secret='Wu0ex80UAuqV9fv6xkN2wkCIZ-NR6Q',\n",
    "    user_agent='Traditional-Can3255'\n",
    ")"
   ]
  },
  {
   "cell_type": "code",
   "execution_count": null,
   "id": "2fedb369-4ea4-4854-85dd-51b736d27ffa",
   "metadata": {},
   "outputs": [],
   "source": []
  }
 ],
 "metadata": {
  "kernelspec": {
   "display_name": "Python 3 (ipykernel)",
   "language": "python",
   "name": "python3"
  },
  "language_info": {
   "codemirror_mode": {
    "name": "ipython",
    "version": 3
   },
   "file_extension": ".py",
   "mimetype": "text/x-python",
   "name": "python",
   "nbconvert_exporter": "python",
   "pygments_lexer": "ipython3",
   "version": "3.11.7"
  }
 },
 "nbformat": 4,
 "nbformat_minor": 5
}
